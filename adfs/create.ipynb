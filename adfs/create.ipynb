{
 "cells": [
  {
   "cell_type": "code",
   "execution_count": null,
   "metadata": {},
   "outputs": [],
   "source": [
    "from azure.mgmt.datafactory import DataFactoryManagementClient\n",
    "from azure.identity import DefaultAzureCredential\n",
    "\n",
    "# Replace with your subscription ID, resource group name, and ADF name\n",
    "subscription_id = \"<your_subscription_id>\"\n",
    "resource_group_name = \"<your_resource_group_name>\"\n",
    "adf_name = \"<your_adf_name>\"\n",
    "\n",
    "# Create a credential object using DefaultAzureCredential\n",
    "credential = DefaultAzureCredential()\n",
    "\n",
    "# Create a Data Factory management client object\n",
    "client = DataFactoryManagementClient(credential, subscription_id)\n",
    "\n",
    "# Define pipeline properties\n",
    "pipeline_properties = {\n",
    "    \"location\": \"East US\",  # Update with your desired region\n",
    "    \"activities\": [\n",
    "        {\n",
    "            \"name\": \"CopyActivity\",\n",
    "            \"type\": \"Copy\",\n",
    "            \"inputs\": [\n",
    "                {\n",
    "                    \"name\": \"inputDataset\",\n",
    "                    \"referenceName\": \"InputDataset\",\n",
    "                }\n",
    "            ],\n",
    "            \"outputs\": [\n",
    "                {\n",
    "                    \"name\": \"outputDataset\",\n",
    "                    \"referenceName\": \"OutputDataset\",\n",
    "                }\n",
    "            ]\n",
    "        }\n",
    "    ]\n",
    "}\n",
    "\n",
    "# Create the pipeline\n",
    "client.pipelines.create_or_update(\n",
    "    resource_group_name, adf_name, \"MyPipeline\", pipeline_properties\n",
    ")\n",
    "\n",
    "print(f\"Pipeline '{adf_name}/MyPipeline' created successfully!\")"
   ]
  }
 ],
 "metadata": {
  "language_info": {
   "name": "python"
  }
 },
 "nbformat": 4,
 "nbformat_minor": 2
}
